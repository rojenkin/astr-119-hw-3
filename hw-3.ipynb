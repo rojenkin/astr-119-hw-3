{
 "cells": [
  {
   "cell_type": "code",
   "execution_count": 3,
   "metadata": {},
   "outputs": [],
   "source": [
    "%matplotlib inline\n",
    "import numpy as np\n",
    "import matplotlib.pyplot as plt"
   ]
  },
  {
   "cell_type": "markdown",
   "metadata": {},
   "source": [
    "## Define the function for which we'd like to find the roots"
   ]
  },
  {
   "cell_type": "code",
   "execution_count": 11,
   "metadata": {},
   "outputs": [],
   "source": [
    "def function_for_roots(x):\n",
    "\ta = 1.01\n",
    "\tb = -3.04\n",
    "\tc = 2.07\n",
    "\treturn a*x**2 + b*x + c #get the roots of ax^2 + bx + c"
   ]
  },
  {
   "cell_type": "markdown",
   "metadata": {},
   "source": [
    "### We need a function to check whether our initial values are valid"
   ]
  },
  {
   "cell_type": "code",
   "execution_count": 12,
   "metadata": {},
   "outputs": [],
   "source": [
    "def check_initial_values(f, x_min, x_max, tol):\n",
    "\n",
    "\t#check our intital guesses\n",
    "\ty_min = f(x_min)\n",
    "\ty_max = f(x_max)\n",
    "\t\n",
    "\t#check that x_min and x_max contain a zero crossing\n",
    "\tif(y_min*y_max>=0.0):\n",
    "\t\tprint(\"No zero crossing found in the range = \",x_min,x_max)\n",
    "\t\ts = \"f(%f) = %f, f(%f) = %f\" % (x_min,y_min,x_max,y_max)\n",
    "\t\tprint(s)\n",
    "\t\treturn 0\n",
    "\t\t\n",
    "\t#if x_min is a root, then return flag == 1\n",
    "\tif(np.fabs(y_min)<tol):\n",
    "\t\treturn 1\n",
    "\t\t\n",
    "\t#if x_max is a root, then return flag == 2\n",
    "\tif(np.fabs(y_max)<tol):\n",
    "\t\treturn 2\n",
    "\t\t\n",
    "\t#if we reacth this point, the bracket is valid\n",
    "\t#and we will return 3\n",
    "\treturn 3"
   ]
  },
  {
   "cell_type": "markdown",
   "metadata": {},
   "source": [
    "### Now we will define the main work function that actually performs the iterate search"
   ]
  },
  {
   "cell_type": "code",
   "execution_count": 13,
   "metadata": {},
   "outputs": [],
   "source": [
    "def bisection_root_finding(f, x_min_start, x_max_start, tol):\n",
    "\n",
    "\t#this function uses bisection search to find a root\n",
    "\t\n",
    "\tx_min = x_min_start\t\t#minimum x in bracket\n",
    "\tx_max = x_max_start\t\t#maximum x in bracket\n",
    "\tx_mid = 0.0\t\t\t\t#mid point\n",
    "\t\n",
    "\ty_min = f(x_min)\t\t#function value at x_min\n",
    "\ty_max = f(x_max)\t\t#function value at x_max\n",
    "\ty_mid = 0.0\t\t\t\t#function value at midpoint\n",
    "\t\n",
    "\timax = 10000\t\t\t#set a max number of iterations (10k)\n",
    "\ti = 0\t\t\t\t\t#iteration counter\n",
    "\t\n",
    "\t#check the initial value\n",
    "\tflag = check_initial_values(f,x_min,x_max,tol)\n",
    "\tif(flag==0):\n",
    "\t\tprint(\"Error in bisection_root_finding().\")\n",
    "\t\traise ValueError('Initial values invalid',x_min,x_max)\n",
    "\telif(flag==1):\n",
    "\t\t#lucky guess\n",
    "\t\treturn x_min\n",
    "\telif(flag==2):\n",
    "\t\t#another lucky guess\n",
    "\t\treturn x_max\n",
    "\t\t\n",
    "\t#if we reach here, then we need to conduct the search\n",
    "\t\n",
    "\t#set a flag\n",
    "\tflag = 1\n",
    "\t\n",
    "\t#enter a while loop\n",
    "\twhile(flag):\n",
    "\t\tx_mid = 0.5*(x_min+x_max)\t#mid point\n",
    "\t\ty_mid = f(x_mid)\t\t\t#function value at x_mid\t\t\t\t\n",
    "\n",
    "\t\t#check if x_mid is a root\n",
    "\t\tif(np.fabs(y_mid)<tol):\n",
    "\t\t\tflag = 0\n",
    "\t\telse:\n",
    "\t\t\t#x_mid is not a root\n",
    "\t\t\t\n",
    "\t\t\t#if the product of the function at the midpoint\n",
    "\t\t\t#and at one of the end points is greater than\n",
    "\t\t\t#zero, replace this end point\n",
    "\t\t\tif(f(x_min)*f(x_mid)>0):\n",
    "\t\t\t\t#replace x_min with x_mid\n",
    "\t\t\t\tx_min = x_mid\n",
    "\t\t\telse:\n",
    "\t\t\t\t#replace x_max with x_mid\n",
    "\t\t\t\tx_max = x_mid\n",
    "\t\t\t\t\n",
    "\t\t\t\t\n",
    "\t\t\t#print out the iteration\n",
    "\t\t\tprint(x_min,f(x_min),x_max,f(x_max))\n",
    "\t\t\t\n",
    "\t\t\t#count the iteration\n",
    "\t\t\ti += 1\n",
    "\t\t\t\n",
    "\t\t\t#if we have exceeded the max number of iteration, exit\n",
    "\t\t\tif(i>=imax):\n",
    "\t\t\t\tprint(\"Exceeded max number of iterations = \",i)\n",
    "\t\t\t\ts = \"Min bracket f(%f) = %f\" % (x_min,f(x_min))\n",
    "\t\t\t\tprint(s)\n",
    "\t\t\t\ts = \"Max bracket f(%f) = %f\" % (x_max,f(x_max))\n",
    "\t\t\t\tprint(s)\n",
    "\t\t\t\ts = \"Mid bracket f(%f) = %f\" % (x_mid,f(x_mid))\n",
    "\t\t\t\tprint(s)\n",
    "\t\t\t\traise StopIteration('Stopping iterations after ',i)\n",
    "\t\t\t\t\n",
    "\t#we are done!\n",
    "\treturn x_mid"
   ]
  },
  {
   "cell_type": "markdown",
   "metadata": {},
   "source": [
    "### Perform the Search"
   ]
  },
  {
   "cell_type": "code",
   "execution_count": 14,
   "metadata": {},
   "outputs": [
    {
     "name": "stdout",
     "output_type": "stream",
     "text": [
      "0.0 2.07\n",
      "1.5 -0.2175000000000007\n",
      "0.75 0.3581249999999996 1.5 -0.2175000000000007\n",
      "0.75 0.3581249999999996 1.125 -0.07171875000000005\n",
      "0.9375 0.10769531249999975 1.125 -0.07171875000000005\n",
      "1.03125 0.009111328124999485 1.125 -0.07171875000000005\n",
      "1.03125 0.009111328124999485 1.078125 -0.033522949218749876\n",
      "1.03125 0.009111328124999485 1.0546875 -0.012760620117187482\n",
      "1.03125 0.009111328124999485 1.04296875 -0.0019633483886720704\n",
      "1.037109375 0.0035393142700193003 1.04296875 -0.0019633483886720704\n",
      "1.0400390625 0.0007793140411376243 1.04296875 -0.0019633483886720704\n",
      "1.0400390625 0.0007793140411376243 1.04150390625 -0.0005941843986509987\n",
      "1.040771484375 9.202301502186927e-05 1.04150390625 -0.0005941843986509987\n",
      "1.040771484375 9.202301502186927e-05 1.0411376953125 -0.0002512161433698701\n",
      "1.040771484375 9.202301502186927e-05 1.04095458984375 -7.963042706249368e-05\n",
      "1.040863037109375 6.1878282573424315e-06 1.04095458984375 -7.963042706249368e-05\n",
      "1.040863037109375 6.1878282573424315e-06 1.0409088134765625 -3.6723415833161965e-05\n",
      "1.040863037109375 6.1878282573424315e-06 1.0408859252929688 -1.5268322895334308e-05\n",
      "1.040863037109375 6.1878282573424315e-06 1.0408744812011719 -4.540379595852073e-06\n",
      "Root found with y(1.040869) = 0.000001\n"
     ]
    }
   ],
   "source": [
    "x_min = 0.0\n",
    "x_max = 1.5\n",
    "tolerance = 1.0e-6\n",
    "\n",
    "#print the initial guess\n",
    "print(x_min,function_for_roots(x_min))\n",
    "print(x_max,function_for_roots(x_max))\n",
    "\n",
    "x_root = bisection_root_finding(function_for_roots,x_min,x_max,tolerance)\n",
    "y_root = function_for_roots(x_root)\n",
    "\n",
    "s = \"Root found with y(%f) = %f\" % (x_root,y_root)\n",
    "print(s)"
   ]
  },
  {
   "cell_type": "markdown",
   "metadata": {},
   "source": [
    "## Took 19 itterations to find roots"
   ]
  },
  {
   "cell_type": "markdown",
   "metadata": {},
   "source": [
    "# Plotting the graph"
   ]
  },
  {
   "cell_type": "code",
   "execution_count": 26,
   "metadata": {},
   "outputs": [
    {
     "data": {
      "image/png": "[encoded data removed]",
      "text/plain": [
       "<Figure size 576x576 with 1 Axes>"
      ]
     },
     "metadata": {
      "needs_background": "light"
     },
     "output_type": "display_data"
    }
   ],
   "source": [
    "plt.figure(figsize = (8,8)) #size of graph\n",
    "x = np.linspace(0,3,1000)\n",
    "x_min_b = 1.5\n",
    "x_max_b =3.0\n",
    "x_root_b = 1.969030\n",
    "\n",
    "z= 0*x\n",
    "plt.plot(x,function_for_roots(x),color='dodgerblue',label='Function')\n",
    "plt.plot(x,z,color='crimson')\n",
    "\n",
    "#Plot max val\n",
    "plt.plot(x_min,function_for_roots(x_min),color='k',marker='o',label='Max')\n",
    "plt.plot(x_max_b,function_for_roots(x_max_b),color='k',marker='o')\n",
    "\n",
    "\n",
    "#Plot main point\n",
    "plt.plot(x_max,function_for_roots(x_max),color='slateblue',marker='o',label='Min')\n",
    "\n",
    "#Plots of left/right roots\n",
    "plt.plot(x_root,y_root,color='fuchsia',marker='o', label='Roots')\n",
    "plt.plot(x_root_b,y_root,color='fuchsia',marker='o')\n",
    "\n",
    "plt.xlabel('x',fontsize=12)\n",
    "plt.ylabel('f(x)',fontsize=12)\n",
    "plt.grid(color='aliceblue')\n",
    "plt.xlim(0,3) #setting x, y limits\n",
    "plt.ylim(-0.5,2.1)\n",
    "plt.legend(frameon=False,fontsize = 'medium') #defining legend without frame and medium font\n",
    "plt.show() "
   ]
  },
  {
   "cell_type": "code",
   "execution_count": null,
   "metadata": {},
   "outputs": [],
   "source": []
  }
 ],
 "metadata": {
  "kernelspec": {
   "display_name": "Python 3",
   "language": "python",
   "name": "python3"
  },
  "language_info": {
   "codemirror_mode": {
    "name": "ipython",
    "version": 3
   },
   "file_extension": ".py",
   "mimetype": "text/x-python",
   "name": "python",
   "nbconvert_exporter": "python",
   "pygments_lexer": "ipython3",
   "version": "3.7.0"
  }
 },
 "nbformat": 4,
 "nbformat_minor": 2
}
